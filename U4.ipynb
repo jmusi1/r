{
  "nbformat": 4,
  "nbformat_minor": 0,
  "metadata": {
    "colab": {
      "provenance": []
    },
    "kernelspec": {
      "name": "python3",
      "display_name": "Python 3"
    },
    "language_info": {
      "name": "python"
    }
  },
  "cells": [
    {
      "cell_type": "code",
      "source": [
        "import numpy as np\n",
        "from sklearn.decomposition import TruncatedSVD\n",
        "from sklearn.feature_extraction.text import CountVectorizer\n",
        "\n",
        "documents = [\n",
        "    \"baseball soccer basketball\",\n",
        "    \"soccer basketball tennis\",\n",
        "    \"tennis cricket\",\n",
        "    \"cricket soccer\"\n",
        "]\n",
        "\n",
        "vectorizer = CountVectorizer()\n",
        "X = vectorizer.fit_transform(documents)\n",
        "\n",
        "lsa = TruncatedSVD(n_components=2)\n",
        "lsa.fit(X)\n",
        "\n",
        "terms = vectorizer.get_feature_names_out()\n",
        "\n",
        "topic_matrix = np.array([\n",
        "    lsa.components_[i] / np.linalg.norm(lsa.components_[i])\n",
        "    for i in range(lsa.components_.shape[0])\n",
        "])\n",
        "\n",
        "print(\"Top terms for each topic:\")\n",
        "for i, topic in enumerate(topic_matrix):\n",
        "    top_indices = topic.argsort()[-5:][::-1]\n",
        "    top_terms = [terms[index] for index in top_indices]\n",
        "    print(f\"Topic {i + 1}: {' '.join(top_terms)}\")\n"
      ],
      "metadata": {
        "colab": {
          "base_uri": "https://localhost:8080/"
        },
        "id": "eWVAJkWoRQ9V",
        "outputId": "8921c3ba-9f70-46d2-fa23-88175b5f0f57"
      },
      "execution_count": 2,
      "outputs": [
        {
          "output_type": "stream",
          "name": "stdout",
          "text": [
            "Top terms for each topic:\n",
            "Topic 1: soccer basketball tennis cricket baseball\n",
            "Topic 2: cricket tennis soccer baseball basketball\n"
          ]
        }
      ]
    }
  ]
}