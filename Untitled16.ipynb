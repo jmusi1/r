{
  "nbformat": 4,
  "nbformat_minor": 0,
  "metadata": {
    "colab": {
      "provenance": []
    },
    "kernelspec": {
      "name": "python3",
      "display_name": "Python 3"
    },
    "language_info": {
      "name": "python"
    }
  },
  "cells": [
    {
      "cell_type": "code",
      "execution_count": 8,
      "metadata": {
        "colab": {
          "base_uri": "https://localhost:8080/"
        },
        "id": "k7iShf7u5FYB",
        "outputId": "65776e58-b198-4b5d-f38d-630764d28255"
      },
      "outputs": [
        {
          "output_type": "stream",
          "name": "stderr",
          "text": [
            "[nltk_data] Downloading package punkt to /root/nltk_data...\n",
            "[nltk_data]   Package punkt is already up-to-date!\n",
            "[nltk_data] Downloading package wordnet to /root/nltk_data...\n",
            "[nltk_data]   Package wordnet is already up-to-date!\n",
            "[nltk_data] Downloading package stopwords to /root/nltk_data...\n",
            "[nltk_data]   Package stopwords is already up-to-date!\n",
            "[nltk_data] Downloading package punkt_tab to /root/nltk_data...\n",
            "[nltk_data]   Unzipping tokenizers/punkt_tab.zip.\n"
          ]
        },
        {
          "output_type": "stream",
          "name": "stdout",
          "text": [
            "Lemmatization:\n",
            "['tokenization', 'process', 'breaking', 'text', 'word', 'phrase', 'stemming', 'lemmatization', 'technique', 'used', 'reduce', 'word', 'base', 'form']\n",
            "\n",
            "Stemming:\n",
            "['token', 'process', 'break', 'text', 'word', 'phrase', 'stem', 'lemmat', 'techniqu', 'use', 'reduc', 'word', 'base', 'form']\n"
          ]
        }
      ],
      "source": [
        "import nltk\n",
        "from nltk.tokenize import word_tokenize\n",
        "from nltk.stem import WordNetLemmatizer, PorterStemmer\n",
        "from nltk.corpus import stopwords\n",
        "import string\n",
        "nltk.download('punkt')\n",
        "nltk.download('wordnet')\n",
        "nltk.download('stopwords')\n",
        "nltk.download('punkt_tab')\n",
        "\n",
        "def preprocess_text(text):\n",
        " # Tokenization\n",
        " tokens = word_tokenize(text.lower())\n",
        " # Remove punctuation\n",
        " tokens = [token for token in tokens if token not in string.punctuation]\n",
        " # Remove stopwords\n",
        " stop_words = set(stopwords.words('english'))\n",
        " tokens = [token for token in tokens if token not in stop_words]\n",
        " return tokens\n",
        "def lemmatize(tokens):\n",
        " lemmatizer = WordNetLemmatizer()\n",
        " lemmas = [lemmatizer.lemmatize(token) for token in tokens]\n",
        " return lemmas\n",
        "def stem(tokens):\n",
        " stemmer = PorterStemmer()\n",
        " stems = [stemmer.stem(token) for token in tokens]\n",
        " return stems\n",
        "def main():\n",
        " # Sample text\n",
        " text = \"Tokenization is the process of breaking down text into words and phrases. Stemming and Lemmatization are techniques used to reduce words to their base form.\"\n",
        " # Preprocess text\n",
        " tokens = preprocess_text(text)\n",
        " # Lemmatization\n",
        " lemmas = lemmatize(tokens)\n",
        " print(\"Lemmatization:\")\n",
        " print(lemmas)\n",
        " # Stemming\n",
        " stems = stem(tokens)\n",
        " print(\"\\nStemming:\")\n",
        " print(stems)\n",
        "if __name__ == \"__main__\":\n",
        "  main()\n"
      ]
    }
  ]
}