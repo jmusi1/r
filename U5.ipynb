{
  "nbformat": 4,
  "nbformat_minor": 0,
  "metadata": {
    "colab": {
      "provenance": []
    },
    "kernelspec": {
      "name": "python3",
      "display_name": "Python 3"
    },
    "language_info": {
      "name": "python"
    }
  },
  "cells": [
    {
      "cell_type": "code",
      "execution_count": null,
      "metadata": {
        "id": "19-D8HwLSaG5"
      },
      "outputs": [],
      "source": [
        "import numpy as np\n",
        "from sklearn.datasets import fetch_20newsgroups\n",
        "from sklearn.feature_extraction.text import TfidfVectorizer\n",
        "from sklearn.naive_bayes import MultinomialNB\n",
        "from sklearn.svm import SVC\n",
        "from sklearn.metrics import classification_report\n",
        "from sklearn.model_selection import train_test_split\n",
        "\n",
        "newsgroups = fetch_20newsgroups(subset='all')\n",
        "X_train, X_test, y_train, y_test = train_test_split(newsgroups.data, newsgroups.target, test_size=0.2, random_state=42)\n",
        "\n",
        "vectorizer = TfidfVectorizer()\n",
        "X_train_vectorized = vectorizer.fit_transform(X_train)\n",
        "X_test_vectorized = vectorizer.transform(X_test)\n",
        "\n",
        "nb_classifier = MultinomialNB()\n",
        "nb_classifier.fit(X_train_vectorized, y_train)\n",
        "nb_predictions = nb_classifier.predict(X_test_vectorized)\n",
        "\n",
        "svm_classifier = SVC(kernel='linear')\n",
        "svm_classifier.fit(X_train_vectorized, y_train)\n",
        "svm_predictions = svm_classifier.predict(X_test_vectorized)\n",
        "\n",
        "print(\"Naïve Bayes Classifier:\")\n",
        "print(classification_report(y_test, nb_predictions, target_names=newsgroups.target_names))\n",
        "\n",
        "print(\"\\nSupport Vector Machine (SVM) Classifier:\")\n",
        "print(classification_report(y_test, svm_predictions, target_names=newsgroups.target_names))\n"
      ]
    }
  ]
}